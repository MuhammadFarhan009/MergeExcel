{
 "cells": [
  {
   "cell_type": "code",
   "execution_count": 14,
   "metadata": {},
   "outputs": [],
   "source": [
    "import pandas as pd\n",
    "\n",
    "# Load the Excel files\n",
    "df1 = pd.read_excel('rekap.xlsx', sheet_name='Data')\n",
    "df2 = pd.read_excel('prak2.xlsx', sheet_name='Form Responses 1')\n",
    "\n",
    "# Keep only the 'NPM' column from df1\n",
    "df1 = df1[['NPM', 'Nama']]\n",
    "\n",
    "# Merge the dataframes on the 'NPM' column\n",
    "merged_df = pd.merge(df1, df2, on='NPM', how='inner')\n",
    "\n",
    "# Save the merged dataframe to a new Excel file\n",
    "merged_df.to_excel('Prak2akhir.xlsx', index=False)\n"
   ]
  }
 ],
 "metadata": {
  "kernelspec": {
   "display_name": "Python 3",
   "language": "python",
   "name": "python3"
  },
  "language_info": {
   "codemirror_mode": {
    "name": "ipython",
    "version": 3
   },
   "file_extension": ".py",
   "mimetype": "text/x-python",
   "name": "python",
   "nbconvert_exporter": "python",
   "pygments_lexer": "ipython3",
   "version": "3.11.5"
  }
 },
 "nbformat": 4,
 "nbformat_minor": 2
}
