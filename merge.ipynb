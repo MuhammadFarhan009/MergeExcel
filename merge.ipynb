{
 "cells": [
  {
   "cell_type": "code",
   "execution_count": 2,
   "metadata": {},
   "outputs": [],
   "source": [
    "import pandas as pd\n",
    "\n",
    "# Load the Excel files\n",
    "df1 = pd.read_excel('rekap.xlsx', sheet_name='Data')\n",
    "df2 = pd.read_excel('tes.xlsx', sheet_name='Form Responses 1')\n",
    "\n",
    "# Keep only the 'NPM' column from df1\n",
    "df1 = df1[['NPM', 'Nama']]\n",
    "\n",
    "# Merge the dataframes on the 'NPM' column\n",
    "merged_df = pd.merge(df1, df2, on='NPM', how='inner')\n",
    "\n",
    "# Save the merged dataframe to a new Excel file\n",
    "merged_df.to_excel('test2awal.xlsx', index=False)\n"
   ]
  },
  {
   "cell_type": "code",
   "execution_count": 3,
   "metadata": {},
   "outputs": [
    {
     "name": "stdout",
     "output_type": "stream",
     "text": [
      "             NPM                        Nama\n",
      "0            NaN                         NaN\n",
      "1   2.108107e+12  MUHAMMAD ALMER ZUHDI RANGK\n",
      "3   2.208107e+12                 ALVIA ZUHRA\n",
      "19  2.208107e+12       WILLY JONATHAN ARSYAD\n",
      "24  2.208107e+12              M. TARIS RIZKI\n",
      "30  2.208107e+12                ARIF MAULANA\n",
      "34  2.208107e+12                 GLENN HAKIM\n",
      "43  2.208001e+12               Dewina Alayda\n",
      "44  2.208001e+12        Chairul Huda Lestari\n"
     ]
    }
   ],
   "source": [
    "import pandas as pd\n",
    "\n",
    "# Load the Excel files\n",
    "df1 = pd.read_excel('rekap.xlsx', sheet_name='Data')\n",
    "df2 = pd.read_excel('tes.xlsx', sheet_name='Form Responses 1')\n",
    "\n",
    "# Keep only the 'NPM' column from df1\n",
    "df1 = df1[['NPM', 'Nama']]\n",
    "\n",
    "# Find NPM values in df1 that are not in df2\n",
    "missing_npm = df1[~df1['NPM'].isin(df2['NPM'])]\n",
    "\n",
    "# Print or save the missing NPM values\n",
    "print(missing_npm)\n",
    "# missing_npm.to_excel('missing_npm.xlsx', index=False)\n"
   ]
  }
 ],
 "metadata": {
  "kernelspec": {
   "display_name": "Python 3",
   "language": "python",
   "name": "python3"
  },
  "language_info": {
   "codemirror_mode": {
    "name": "ipython",
    "version": 3
   },
   "file_extension": ".py",
   "mimetype": "text/x-python",
   "name": "python",
   "nbconvert_exporter": "python",
   "pygments_lexer": "ipython3",
   "version": "3.11.5"
  }
 },
 "nbformat": 4,
 "nbformat_minor": 2
}
